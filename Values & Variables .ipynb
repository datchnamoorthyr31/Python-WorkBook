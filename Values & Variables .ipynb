{
 "cells": [
  {
   "cell_type": "code",
   "execution_count": 1,
   "id": "6e3a3b5f-bf07-4084-a6ca-6f634136cd96",
   "metadata": {},
   "outputs": [
    {
     "name": "stdout",
     "output_type": "stream",
     "text": [
      "Hello World\n"
     ]
    }
   ],
   "source": [
    "print(\"Hello World\")"
   ]
  },
  {
   "cell_type": "code",
   "execution_count": 2,
   "id": "46028e81-e9f7-4da3-a76f-7502544b8364",
   "metadata": {},
   "outputs": [
    {
     "data": {
      "text/plain": [
       "'3.12.7 | packaged by Anaconda, Inc. | (main, Oct  4 2024, 13:17:27) [MSC v.1929 64 bit (AMD64)]'"
      ]
     },
     "execution_count": 2,
     "metadata": {},
     "output_type": "execute_result"
    }
   ],
   "source": [
    "import sys\n",
    "sys.version"
   ]
  },
  {
   "cell_type": "markdown",
   "id": "74094686-1df8-40be-82a0-493a3351c73d",
   "metadata": {},
   "source": [
    "## Single Line Command"
   ]
  },
  {
   "cell_type": "code",
   "execution_count": 3,
   "id": "d0049227-770e-4c4e-8384-9e2162f450ca",
   "metadata": {},
   "outputs": [
    {
     "ename": "NameError",
     "evalue": "name 'a' is not defined",
     "output_type": "error",
     "traceback": [
      "\u001b[1;31m---------------------------------------------------------------------------\u001b[0m",
      "\u001b[1;31mNameError\u001b[0m                                 Traceback (most recent call last)",
      "Cell \u001b[1;32mIn[3], line 3\u001b[0m\n\u001b[0;32m      1\u001b[0m \u001b[38;5;66;03m#a = 5\u001b[39;00m\n\u001b[0;32m      2\u001b[0m b \u001b[38;5;241m=\u001b[39m \u001b[38;5;241m10\u001b[39m\n\u001b[1;32m----> 3\u001b[0m \u001b[38;5;28mprint\u001b[39m(a)\n",
      "\u001b[1;31mNameError\u001b[0m: name 'a' is not defined"
     ]
    }
   ],
   "source": [
    "#a = 5\n",
    "b = 10\n",
    "print(a)"
   ]
  },
  {
   "cell_type": "markdown",
   "id": "4d4450d3-5f65-47bf-8239-38bf1ee808d7",
   "metadata": {},
   "source": [
    "## Multiline Command"
   ]
  },
  {
   "cell_type": "code",
   "execution_count": 4,
   "id": "72d52d55-c385-4f85-a0e1-ee65f69cebe1",
   "metadata": {},
   "outputs": [
    {
     "data": {
      "text/plain": [
       "' a = 5\\nb = 10\\nprint(a)'"
      ]
     },
     "execution_count": 4,
     "metadata": {},
     "output_type": "execute_result"
    }
   ],
   "source": [
    "''' a = 5\n",
    "b = 10\n",
    "print(a)'''"
   ]
  },
  {
   "cell_type": "markdown",
   "id": "d286c4da-ea0a-43ab-be74-1452b9786e16",
   "metadata": {},
   "source": [
    "## Legal Variable Names"
   ]
  },
  {
   "cell_type": "code",
   "execution_count": 6,
   "id": "4cf4cb46-52cb-4776-86f6-bda2880693d6",
   "metadata": {},
   "outputs": [
    {
     "name": "stdout",
     "output_type": "stream",
     "text": [
      "10\n",
      "10\n",
      "10\n",
      "10\n",
      "10\n",
      "10\n"
     ]
    }
   ],
   "source": [
    "num = 10\n",
    "num_1 = 10\n",
    "_num_1 = 10\n",
    "nUmBeR = 10\n",
    "NUMBER = 10\n",
    "NUMBER1 = 10\n",
    "print(num)\n",
    "print(num_1)\n",
    "print(_num_1)\n",
    "print(nUmBeR)\n",
    "print(NUMBER)\n",
    "print(NUMBER1)"
   ]
  },
  {
   "cell_type": "markdown",
   "id": "a0d0738b-7aaf-41a2-a413-8c90f2d0dfe9",
   "metadata": {},
   "source": [
    "## Illegal Varaible Names"
   ]
  },
  {
   "cell_type": "code",
   "execution_count": 8,
   "id": "fa0ef291-bf3a-4ebc-a4c9-e6596d5855fd",
   "metadata": {},
   "outputs": [
    {
     "ename": "SyntaxError",
     "evalue": "invalid decimal literal (12944913.py, line 1)",
     "output_type": "error",
     "traceback": [
      "\u001b[1;36m  Cell \u001b[1;32mIn[8], line 1\u001b[1;36m\u001b[0m\n\u001b[1;33m    1num = 10\u001b[0m\n\u001b[1;37m    ^\u001b[0m\n\u001b[1;31mSyntaxError\u001b[0m\u001b[1;31m:\u001b[0m invalid decimal literal\n"
     ]
    }
   ],
   "source": [
    "1num = 10\n",
    "num-ber = 10\n",
    "num ber = 10\n",
    "print(1num)\n",
    "print(num-ber)\n",
    "print(num ber)"
   ]
  },
  {
   "cell_type": "markdown",
   "id": "c9147da9-b845-4fd6-9c04-d152e9a4f8fe",
   "metadata": {},
   "source": [
    "## Assign Multiple Values"
   ]
  },
  {
   "cell_type": "code",
   "execution_count": 9,
   "id": "ee30cea1-ed41-4797-a5bc-5569f8deda1f",
   "metadata": {},
   "outputs": [
    {
     "name": "stdout",
     "output_type": "stream",
     "text": [
      "apple\n",
      "apple\n",
      "apple\n"
     ]
    }
   ],
   "source": [
    "a = b = c = \"apple\"\n",
    "print(a)\n",
    "print(b)\n",
    "print(c)"
   ]
  },
  {
   "cell_type": "code",
   "execution_count": 11,
   "id": "43388d40-c63e-4cd4-b990-e65e64cdb665",
   "metadata": {},
   "outputs": [
    {
     "name": "stdout",
     "output_type": "stream",
     "text": [
      "apple\n",
      "orange\n",
      "graphs\n"
     ]
    }
   ],
   "source": [
    "a , b , c = \"apple\",\"orange\",\"graphs\"\n",
    "print(a)\n",
    "print(b)\n",
    "print(c)"
   ]
  },
  {
   "cell_type": "markdown",
   "id": "938170bb-328d-4368-a793-be47f39eaec4",
   "metadata": {},
   "source": [
    "## Static Value "
   ]
  },
  {
   "cell_type": "code",
   "execution_count": 12,
   "id": "892561c7-c075-403d-9d44-b3189cb5a1af",
   "metadata": {},
   "outputs": [
    {
     "name": "stdout",
     "output_type": "stream",
     "text": [
      "30\n"
     ]
    }
   ],
   "source": [
    "a = 10\n",
    "b = 20\n",
    "print(a+b)"
   ]
  },
  {
   "cell_type": "markdown",
   "id": "a6a09d80-15c4-4d38-a11f-7dcd4cb90d3e",
   "metadata": {},
   "source": [
    "## Dynamic Value"
   ]
  },
  {
   "cell_type": "code",
   "execution_count": 13,
   "id": "b3a4332a-9485-4094-8a17-00eb52ae5d41",
   "metadata": {},
   "outputs": [
    {
     "name": "stdin",
     "output_type": "stream",
     "text": [
      " 31\n"
     ]
    },
    {
     "name": "stdout",
     "output_type": "stream",
     "text": [
      "31\n"
     ]
    }
   ],
   "source": [
    "a = input()\n",
    "print(a)"
   ]
  },
  {
   "cell_type": "code",
   "execution_count": null,
   "id": "885e0519-2a12-4877-956c-c6790f1be73c",
   "metadata": {},
   "outputs": [],
   "source": []
  }
 ],
 "metadata": {
  "kernelspec": {
   "display_name": "Python 3 (ipykernel)",
   "language": "python",
   "name": "python3"
  },
  "language_info": {
   "codemirror_mode": {
    "name": "ipython",
    "version": 3
   },
   "file_extension": ".py",
   "mimetype": "text/x-python",
   "name": "python",
   "nbconvert_exporter": "python",
   "pygments_lexer": "ipython3",
   "version": "3.12.7"
  }
 },
 "nbformat": 4,
 "nbformat_minor": 5
}
