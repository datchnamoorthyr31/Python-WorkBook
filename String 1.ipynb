{
 "cells": [
  {
   "cell_type": "markdown",
   "id": "b8a46698-8f8c-484b-97a1-52922a728e8c",
   "metadata": {},
   "source": [
    "## String"
   ]
  },
  {
   "cell_type": "code",
   "execution_count": 1,
   "id": "fbad086f-0a9a-4361-87b1-134efcb2fd52",
   "metadata": {},
   "outputs": [
    {
     "name": "stdout",
     "output_type": "stream",
     "text": [
      "hello\n"
     ]
    }
   ],
   "source": [
    "print(\"hello\")"
   ]
  },
  {
   "cell_type": "code",
   "execution_count": 2,
   "id": "1951fd24-8dcf-4fe6-88cc-1e867e03df91",
   "metadata": {},
   "outputs": [
    {
     "name": "stdout",
     "output_type": "stream",
     "text": [
      "hello\n"
     ]
    }
   ],
   "source": [
    "print('hello')"
   ]
  },
  {
   "cell_type": "code",
   "execution_count": 3,
   "id": "7c34bff1-4544-4f56-a73f-4687888983d7",
   "metadata": {},
   "outputs": [
    {
     "name": "stdout",
     "output_type": "stream",
     "text": [
      "hello\n"
     ]
    }
   ],
   "source": [
    "txt = \"hello\"\n",
    "print(txt)"
   ]
  },
  {
   "cell_type": "code",
   "execution_count": 4,
   "id": "9c5e56b3-d19a-42fd-8154-c538d80c71d1",
   "metadata": {},
   "outputs": [
    {
     "data": {
      "text/plain": [
       "'hello'"
      ]
     },
     "execution_count": 4,
     "metadata": {},
     "output_type": "execute_result"
    }
   ],
   "source": [
    "txt = \"hello\"\n",
    "txt"
   ]
  },
  {
   "cell_type": "code",
   "execution_count": 5,
   "id": "89db36c1-0893-49ad-928c-b42731148567",
   "metadata": {},
   "outputs": [
    {
     "ename": "SyntaxError",
     "evalue": "unterminated string literal (detected at line 1) (2765818566.py, line 1)",
     "output_type": "error",
     "traceback": [
      "\u001b[1;36m  Cell \u001b[1;32mIn[5], line 1\u001b[1;36m\u001b[0m\n\u001b[1;33m    a = \"hello\u001b[0m\n\u001b[1;37m        ^\u001b[0m\n\u001b[1;31mSyntaxError\u001b[0m\u001b[1;31m:\u001b[0m unterminated string literal (detected at line 1)\n"
     ]
    }
   ],
   "source": [
    "a = \"hello\n",
    "     \"\n",
    "print(a)"
   ]
  },
  {
   "cell_type": "code",
   "execution_count": 18,
   "id": "b7a4b5dd-2fc4-47fa-93ce-30b3a1b1caf6",
   "metadata": {},
   "outputs": [
    {
     "ename": "SyntaxError",
     "evalue": "unterminated string literal (detected at line 1) (2650317399.py, line 1)",
     "output_type": "error",
     "traceback": [
      "\u001b[1;36m  Cell \u001b[1;32mIn[18], line 1\u001b[1;36m\u001b[0m\n\u001b[1;33m    txt =\"datchna\u001b[0m\n\u001b[1;37m         ^\u001b[0m\n\u001b[1;31mSyntaxError\u001b[0m\u001b[1;31m:\u001b[0m unterminated string literal (detected at line 1)\n"
     ]
    }
   ],
   "source": [
    "txt =\"datchna\n",
    "      moorthy\"\n",
    "print(txt)"
   ]
  },
  {
   "cell_type": "code",
   "execution_count": 8,
   "id": "8a860355-8f05-4c1c-94ac-3b0e888f08ea",
   "metadata": {},
   "outputs": [
    {
     "name": "stdout",
     "output_type": "stream",
     "text": [
      "datchna\n",
      "      moorthy\n"
     ]
    }
   ],
   "source": [
    "txt =\"\"\"datchna\n",
    "      moorthy\"\"\"\n",
    "print(txt)"
   ]
  },
  {
   "cell_type": "code",
   "execution_count": 17,
   "id": "b59ae1b5-d9a1-48da-aaf2-0b2154b57483",
   "metadata": {},
   "outputs": [
    {
     "name": "stdout",
     "output_type": "stream",
     "text": [
      "10\n"
     ]
    }
   ],
   "source": [
    "'''the below mentioned formula is for type casting'''\n",
    "a = 10\n",
    "print(a)"
   ]
  },
  {
   "cell_type": "markdown",
   "id": "f4d76030-b8bc-41c8-ade0-c110d96440bb",
   "metadata": {},
   "source": [
    "## String length "
   ]
  },
  {
   "cell_type": "code",
   "execution_count": 19,
   "id": "d1e466a2-702f-4308-b124-c1ea97dcf714",
   "metadata": {},
   "outputs": [
    {
     "name": "stdout",
     "output_type": "stream",
     "text": [
      "6\n"
     ]
    }
   ],
   "source": [
    "a = \"sanjiv\"\n",
    "print(len(a))"
   ]
  },
  {
   "cell_type": "markdown",
   "id": "796cf150-38c3-4076-92c2-64690699b90a",
   "metadata": {},
   "source": [
    "## String Indexing"
   ]
  },
  {
   "cell_type": "code",
   "execution_count": 22,
   "id": "1163ddb5-73c5-430b-9bd1-4bf72465b4ff",
   "metadata": {},
   "outputs": [
    {
     "name": "stdout",
     "output_type": "stream",
     "text": [
      "s\n",
      "v\n"
     ]
    }
   ],
   "source": [
    "a = \"sanjiv\"\n",
    "print(a[0])\n",
    "print(a[-1])"
   ]
  },
  {
   "cell_type": "markdown",
   "id": "3ddb1c1e-0542-4cbc-af5c-c201d4dea9f4",
   "metadata": {},
   "source": [
    "## String slicing "
   ]
  },
  {
   "cell_type": "code",
   "execution_count": 37,
   "id": "37821b83-13ae-49cf-933c-edace554cf4b",
   "metadata": {},
   "outputs": [
    {
     "name": "stdout",
     "output_type": "stream",
     "text": [
      "name\n"
     ]
    }
   ],
   "source": [
    "a = \"customer_name\"\n",
    "print(a[-4:])"
   ]
  },
  {
   "cell_type": "code",
   "execution_count": 38,
   "id": "565ed0ba-906f-4ab0-af7e-d6a2b2ee5629",
   "metadata": {},
   "outputs": [
    {
     "name": "stdout",
     "output_type": "stream",
     "text": [
      "customer_name\n"
     ]
    }
   ],
   "source": [
    "a = \"customer_name\"\n",
    "print(a[:])"
   ]
  },
  {
   "cell_type": "markdown",
   "id": "785dda0c-9fe3-44ce-9f4d-9d565dd1f05d",
   "metadata": {},
   "source": [
    "## String Methods"
   ]
  },
  {
   "cell_type": "code",
   "execution_count": 40,
   "id": "c92b66f8-40d5-4e96-8272-7d4cbef8fc49",
   "metadata": {},
   "outputs": [
    {
     "name": "stdout",
     "output_type": "stream",
     "text": [
      "DATCHNA\n"
     ]
    }
   ],
   "source": [
    "a = \"datchna\"\n",
    "print(a.upper())"
   ]
  },
  {
   "cell_type": "code",
   "execution_count": 41,
   "id": "e377e71e-b564-4756-ad9e-25b6841ccf08",
   "metadata": {},
   "outputs": [
    {
     "name": "stdout",
     "output_type": "stream",
     "text": [
      "datchna\n"
     ]
    }
   ],
   "source": [
    "a = \"DATCHNA\"\n",
    "print(a.lower())"
   ]
  },
  {
   "cell_type": "code",
   "execution_count": 43,
   "id": "07be7a7f-955a-4262-a1c9-122028a37133",
   "metadata": {},
   "outputs": [
    {
     "name": "stdout",
     "output_type": "stream",
     "text": [
      "Hi, datchna\n"
     ]
    }
   ],
   "source": [
    "a = \"hi, datchna\"\n",
    "print(a.capitalize())"
   ]
  },
  {
   "cell_type": "code",
   "execution_count": 47,
   "id": "ec6c1f7f-4e9a-4e0c-8de0-27b864bca9f8",
   "metadata": {},
   "outputs": [
    {
     "name": "stdout",
     "output_type": "stream",
     "text": [
      "5\n",
      "hi\n",
      "2\n"
     ]
    }
   ],
   "source": [
    "a = \"   hi\"\n",
    "print(len(a))\n",
    "d = a.strip()\n",
    "print(d)\n",
    "print(len(d))"
   ]
  },
  {
   "cell_type": "code",
   "execution_count": 48,
   "id": "540dea97-70d3-4884-9884-3b8142357b40",
   "metadata": {},
   "outputs": [
    {
     "name": "stdout",
     "output_type": "stream",
     "text": [
      "['hi', 'datchna']\n"
     ]
    }
   ],
   "source": [
    "a = \"hi datchna\"\n",
    "print(a.split())"
   ]
  }
 ],
 "metadata": {
  "kernelspec": {
   "display_name": "Python 3 (ipykernel)",
   "language": "python",
   "name": "python3"
  },
  "language_info": {
   "codemirror_mode": {
    "name": "ipython",
    "version": 3
   },
   "file_extension": ".py",
   "mimetype": "text/x-python",
   "name": "python",
   "nbconvert_exporter": "python",
   "pygments_lexer": "ipython3",
   "version": "3.12.7"
  }
 },
 "nbformat": 4,
 "nbformat_minor": 5
}
