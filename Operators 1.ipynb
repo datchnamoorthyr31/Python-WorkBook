{
 "cells": [
  {
   "cell_type": "markdown",
   "id": "50b8d4aa-fa02-4bdf-8024-9f7f2ad0abea",
   "metadata": {},
   "source": [
    "## Operators "
   ]
  },
  {
   "cell_type": "code",
   "execution_count": null,
   "id": "e50775b7-e01a-47eb-84ea-a7c4f0bd4ff5",
   "metadata": {},
   "outputs": [],
   "source": [
    "# 7 types of operators \n",
    "\"\"\"1. arithmetic  - + , - , * , % , / , //\n",
    "2. assignment  - +=, -= , *= , %= , /= , //=\n",
    "3. logical    - and , or , not \n",
    "4. comparision - = , == , <= , >=, !=, > ,< \n",
    "5.identity  - is , is not \n",
    "6. memebership  - in , not in \n",
    "7. bitwise -  bitwise and (|) , bitwise or (^) , bitwise not (\"~\"), left shift << , right shift >>\""
   ]
  },
  {
   "cell_type": "markdown",
   "id": "3a5593c0-d955-43b4-ad46-9bda21a7a4e6",
   "metadata": {},
   "source": [
    "## Arithmetic Operator "
   ]
  },
  {
   "cell_type": "code",
   "execution_count": 1,
   "id": "121ebb99-2f03-41d9-b277-75e4fc4774b8",
   "metadata": {},
   "outputs": [
    {
     "name": "stdout",
     "output_type": "stream",
     "text": [
      "30\n"
     ]
    }
   ],
   "source": [
    "# addition \n",
    "a = 10 \n",
    "b = 20\n",
    "c = a+b\n",
    "print(c)"
   ]
  },
  {
   "cell_type": "code",
   "execution_count": 2,
   "id": "8dc7a55b-67e0-4c55-8668-164bc5a4123b",
   "metadata": {},
   "outputs": [
    {
     "name": "stdout",
     "output_type": "stream",
     "text": [
      "-10\n"
     ]
    }
   ],
   "source": [
    "# subtraction\n",
    "a = 10 \n",
    "b = 20\n",
    "c = a-b\n",
    "print(c)"
   ]
  },
  {
   "cell_type": "code",
   "execution_count": 3,
   "id": "e1e65ebb-09bd-4a40-bf8f-25249abedd37",
   "metadata": {},
   "outputs": [
    {
     "name": "stdout",
     "output_type": "stream",
     "text": [
      "200\n"
     ]
    }
   ],
   "source": [
    "# multiply \n",
    "a = 10 \n",
    "b = 20\n",
    "c = a*b\n",
    "print(c)"
   ]
  },
  {
   "cell_type": "code",
   "execution_count": 8,
   "id": "97f94f05-818a-4139-a8e1-638c5b7befb6",
   "metadata": {},
   "outputs": [
    {
     "name": "stdout",
     "output_type": "stream",
     "text": [
      "5.5\n"
     ]
    }
   ],
   "source": [
    "# division\n",
    "a = 11\n",
    "b = 2\n",
    "c = a/b\n",
    "print(c)"
   ]
  },
  {
   "cell_type": "code",
   "execution_count": 7,
   "id": "42412fd1-cccb-415e-95fd-6ee930211104",
   "metadata": {},
   "outputs": [
    {
     "name": "stdout",
     "output_type": "stream",
     "text": [
      "5\n"
     ]
    }
   ],
   "source": [
    "# floor division\n",
    "a = 11 \n",
    "b = 2\n",
    "c = a//b\n",
    "print(c)"
   ]
  },
  {
   "cell_type": "code",
   "execution_count": 9,
   "id": "4ba92015-71c8-4840-9ac5-e2551e3c1786",
   "metadata": {},
   "outputs": [
    {
     "name": "stdout",
     "output_type": "stream",
     "text": [
      "1\n"
     ]
    }
   ],
   "source": [
    "#modulo \n",
    "a = 11 \n",
    "b = 2\n",
    "c = a%b\n",
    "print(c)"
   ]
  },
  {
   "cell_type": "markdown",
   "id": "91994d24-53f6-471c-aa2d-fd5f9b7f88bc",
   "metadata": {},
   "source": [
    "## Assignment Operator "
   ]
  },
  {
   "cell_type": "code",
   "execution_count": 10,
   "id": "4b85b565-d1e1-4625-a2d3-3d2440fc95fd",
   "metadata": {},
   "outputs": [
    {
     "name": "stdout",
     "output_type": "stream",
     "text": [
      "12\n"
     ]
    }
   ],
   "source": [
    "a = 10 \n",
    "a += 2   # a  = a + 2\n",
    "print(a)"
   ]
  },
  {
   "cell_type": "code",
   "execution_count": 11,
   "id": "6fc031a3-3187-441a-878a-ef30e739990e",
   "metadata": {},
   "outputs": [
    {
     "name": "stdout",
     "output_type": "stream",
     "text": [
      "8\n"
     ]
    }
   ],
   "source": [
    "a = 10 \n",
    "a -= 2   # a  = a -2\n",
    "print(a)"
   ]
  },
  {
   "cell_type": "code",
   "execution_count": 12,
   "id": "736a9141-48b4-49e0-b57a-f133bf70824b",
   "metadata": {},
   "outputs": [
    {
     "name": "stdout",
     "output_type": "stream",
     "text": [
      "20\n"
     ]
    }
   ],
   "source": [
    "a = 10 \n",
    "a *= 2   # a  = a * 2\n",
    "print(a)"
   ]
  },
  {
   "cell_type": "code",
   "execution_count": 13,
   "id": "2db6cdcc-f452-44ae-b44e-dec86c743ee8",
   "metadata": {},
   "outputs": [
    {
     "name": "stdout",
     "output_type": "stream",
     "text": [
      "5.0\n"
     ]
    }
   ],
   "source": [
    "a = 10 \n",
    "a /= 2   # a  = a / 2\n",
    "print(a)"
   ]
  },
  {
   "cell_type": "code",
   "execution_count": 14,
   "id": "63d4717d-d3da-4f00-aa37-38932f9238a4",
   "metadata": {},
   "outputs": [
    {
     "name": "stdout",
     "output_type": "stream",
     "text": [
      "5\n"
     ]
    }
   ],
   "source": [
    "a = 10 \n",
    "a //= 2   # a  = a // 2\n",
    "print(a)"
   ]
  },
  {
   "cell_type": "code",
   "execution_count": 15,
   "id": "76140641-fdfa-415f-8ae9-b4e0abeceb97",
   "metadata": {},
   "outputs": [
    {
     "name": "stdout",
     "output_type": "stream",
     "text": [
      "0\n"
     ]
    }
   ],
   "source": [
    "a = 10 \n",
    "a %= 2   # a  = a % 2\n",
    "print(a)"
   ]
  },
  {
   "cell_type": "code",
   "execution_count": null,
   "id": "96dde424-1e4a-47fe-9f04-51060f2a7133",
   "metadata": {},
   "outputs": [],
   "source": []
  }
 ],
 "metadata": {
  "kernelspec": {
   "display_name": "Python 3 (ipykernel)",
   "language": "python",
   "name": "python3"
  },
  "language_info": {
   "codemirror_mode": {
    "name": "ipython",
    "version": 3
   },
   "file_extension": ".py",
   "mimetype": "text/x-python",
   "name": "python",
   "nbconvert_exporter": "python",
   "pygments_lexer": "ipython3",
   "version": "3.12.7"
  }
 },
 "nbformat": 4,
 "nbformat_minor": 5
}
