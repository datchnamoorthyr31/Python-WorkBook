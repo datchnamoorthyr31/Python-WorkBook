{
 "cells": [
  {
   "cell_type": "markdown",
   "id": "11b1b7c8-6c80-4780-bdbc-52114aa15118",
   "metadata": {},
   "source": [
    "## Comparison Operator "
   ]
  },
  {
   "cell_type": "code",
   "execution_count": 1,
   "id": "973632d5-fc95-46c6-9bd4-86928c475d91",
   "metadata": {},
   "outputs": [
    {
     "name": "stdout",
     "output_type": "stream",
     "text": [
      "False\n"
     ]
    }
   ],
   "source": [
    "a = 10 \n",
    "b= 10\n",
    "print(a>b)"
   ]
  },
  {
   "cell_type": "code",
   "execution_count": 2,
   "id": "67f21c92-e65f-4221-82e8-03ed2373ed36",
   "metadata": {},
   "outputs": [
    {
     "name": "stdout",
     "output_type": "stream",
     "text": [
      "True\n"
     ]
    }
   ],
   "source": [
    "print(a==b)"
   ]
  },
  {
   "cell_type": "code",
   "execution_count": 3,
   "id": "2e8b5d6a-b615-4e9a-af9c-8bf9cfb386ef",
   "metadata": {},
   "outputs": [
    {
     "name": "stdout",
     "output_type": "stream",
     "text": [
      "False\n"
     ]
    }
   ],
   "source": [
    "print(a!=b)"
   ]
  },
  {
   "cell_type": "code",
   "execution_count": 4,
   "id": "eab4527e-5faf-42a6-bfc4-671dd0a8962f",
   "metadata": {},
   "outputs": [
    {
     "name": "stdout",
     "output_type": "stream",
     "text": [
      "True\n"
     ]
    }
   ],
   "source": [
    "num1 = 20\n",
    "num2 = 34\n",
    "print(num2>=num1)"
   ]
  },
  {
   "cell_type": "code",
   "execution_count": 5,
   "id": "36d5cf00-f972-4b6c-9d68-314935eff1f7",
   "metadata": {},
   "outputs": [
    {
     "name": "stdout",
     "output_type": "stream",
     "text": [
      "False\n"
     ]
    }
   ],
   "source": [
    "print(num2<=num1)"
   ]
  },
  {
   "cell_type": "markdown",
   "id": "26ad3cb1-5493-4990-9682-334e059fc806",
   "metadata": {},
   "source": [
    "## Logical Operators"
   ]
  },
  {
   "cell_type": "code",
   "execution_count": 6,
   "id": "09ca284b-b44e-477d-9067-b542354d5545",
   "metadata": {},
   "outputs": [
    {
     "name": "stdout",
     "output_type": "stream",
     "text": [
      "True\n"
     ]
    }
   ],
   "source": [
    "a = 34\n",
    "print((a>12) and (a<50))"
   ]
  },
  {
   "cell_type": "code",
   "execution_count": 7,
   "id": "7636170f-99d4-4159-b9e5-1c5873655a17",
   "metadata": {},
   "outputs": [
    {
     "name": "stdout",
     "output_type": "stream",
     "text": [
      "False\n"
     ]
    }
   ],
   "source": [
    "print((a<12) and (a<50))"
   ]
  },
  {
   "cell_type": "code",
   "execution_count": 9,
   "id": "ea817a85-a1bf-4dad-9b6e-bbad1cab60e5",
   "metadata": {},
   "outputs": [
    {
     "name": "stdout",
     "output_type": "stream",
     "text": [
      "True\n"
     ]
    }
   ],
   "source": [
    "a = 12\n",
    "print((a<12) or (a<50))"
   ]
  },
  {
   "cell_type": "code",
   "execution_count": 11,
   "id": "bec89b1a-2047-492a-ace3-aac9bf65de50",
   "metadata": {},
   "outputs": [
    {
     "name": "stdout",
     "output_type": "stream",
     "text": [
      "True\n"
     ]
    }
   ],
   "source": [
    "a = 0\n",
    "print(not(a))"
   ]
  },
  {
   "cell_type": "code",
   "execution_count": 12,
   "id": "7284cdc9-45c5-443a-ba5d-94de87aa4c2b",
   "metadata": {},
   "outputs": [
    {
     "name": "stdout",
     "output_type": "stream",
     "text": [
      "False\n"
     ]
    }
   ],
   "source": [
    "a = 1\n",
    "print(not(a))"
   ]
  },
  {
   "cell_type": "markdown",
   "id": "43c2bfb3-e3de-413f-8390-192c4bb5b7c0",
   "metadata": {},
   "source": [
    "## Identtity Operators"
   ]
  },
  {
   "cell_type": "code",
   "execution_count": 14,
   "id": "b074cf66-2cfd-4f67-8dad-c83cf512f77a",
   "metadata": {},
   "outputs": [
    {
     "name": "stdout",
     "output_type": "stream",
     "text": [
      "True\n",
      "False\n"
     ]
    }
   ],
   "source": [
    "a = [\"apple\"]\n",
    "b = [\"lemon\"]\n",
    "c = a\n",
    "\n",
    "print(a is c)\n",
    "print(a is b)"
   ]
  },
  {
   "cell_type": "code",
   "execution_count": 16,
   "id": "dd8edc80-429c-4c60-bc84-7c00a151a22d",
   "metadata": {},
   "outputs": [
    {
     "name": "stdout",
     "output_type": "stream",
     "text": [
      "True\n",
      "False\n"
     ]
    }
   ],
   "source": [
    "print(a is not b)\n",
    "print(a is not c)"
   ]
  },
  {
   "cell_type": "code",
   "execution_count": null,
   "id": "97507442-bc9b-4342-a15a-06192c5a4bbf",
   "metadata": {},
   "outputs": [],
   "source": [
    "## Membership Opea"
   ]
  }
 ],
 "metadata": {
  "kernelspec": {
   "display_name": "Python 3 (ipykernel)",
   "language": "python",
   "name": "python3"
  },
  "language_info": {
   "codemirror_mode": {
    "name": "ipython",
    "version": 3
   },
   "file_extension": ".py",
   "mimetype": "text/x-python",
   "name": "python",
   "nbconvert_exporter": "python",
   "pygments_lexer": "ipython3",
   "version": "3.12.7"
  }
 },
 "nbformat": 4,
 "nbformat_minor": 5
}
