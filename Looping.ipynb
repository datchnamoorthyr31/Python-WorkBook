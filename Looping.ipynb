{
 "cells": [
  {
   "cell_type": "markdown",
   "id": "8cd32b57-87f8-41a9-89c1-e2fbf4af565a",
   "metadata": {},
   "source": [
    "## for loop"
   ]
  },
  {
   "cell_type": "code",
   "execution_count": 8,
   "id": "6d4204b1-58ad-4d93-af66-b67e394dc1f8",
   "metadata": {},
   "outputs": [
    {
     "name": "stdout",
     "output_type": "stream",
     "text": [
      "d-a-t-c-h-n-a-m-o-o-r-t-h-y-"
     ]
    }
   ],
   "source": [
    "name = \"datchnamoorthy\"\n",
    "for x in name:\n",
    "    print(x,end=\"-\")"
   ]
  },
  {
   "cell_type": "code",
   "execution_count": 5,
   "id": "20056949-b27a-46f4-8336-cc443b6aa3c1",
   "metadata": {},
   "outputs": [
    {
     "name": "stdout",
     "output_type": "stream",
     "text": [
      "datchnamoorthy\n"
     ]
    }
   ],
   "source": [
    "name = \"datchnamoorthy\"\n",
    "print(name)"
   ]
  },
  {
   "cell_type": "code",
   "execution_count": 11,
   "id": "ff8363e3-d6d1-41fa-895f-d1c1dd0d6894",
   "metadata": {},
   "outputs": [
    {
     "name": "stdout",
     "output_type": "stream",
     "text": [
      "1 2 3 "
     ]
    }
   ],
   "source": [
    "number = \"123\"\n",
    "for i in number:\n",
    "    print(i, end =\" \")"
   ]
  },
  {
   "cell_type": "code",
   "execution_count": 4,
   "id": "7a2a06ae-3fee-4cd1-b0fb-8ea1b67015fd",
   "metadata": {},
   "outputs": [
    {
     "name": "stdout",
     "output_type": "stream",
     "text": [
      "0\n",
      "1\n",
      "2\n",
      "3\n",
      "4\n",
      "5\n",
      "6\n",
      "7\n",
      "8\n",
      "9\n"
     ]
    }
   ],
   "source": [
    "for i in range(10):\n",
    "    print(i)"
   ]
  },
  {
   "cell_type": "code",
   "execution_count": 5,
   "id": "f094f9ed-9a82-4d44-84e5-27c9a013d04f",
   "metadata": {},
   "outputs": [
    {
     "name": "stdout",
     "output_type": "stream",
     "text": [
      "20\n",
      "21\n",
      "22\n",
      "23\n",
      "24\n",
      "25\n",
      "26\n",
      "27\n",
      "28\n",
      "29\n",
      "30\n"
     ]
    }
   ],
   "source": [
    "for i in range(20,31):\n",
    "    print(i)"
   ]
  },
  {
   "cell_type": "code",
   "execution_count": 8,
   "id": "183da1f5-d240-43ad-821e-827cc3778b80",
   "metadata": {},
   "outputs": [
    {
     "name": "stdout",
     "output_type": "stream",
     "text": [
      "20\n",
      "23\n",
      "26\n",
      "29\n"
     ]
    }
   ],
   "source": [
    "for i in range(20,30,3):\n",
    "    print(i)"
   ]
  },
  {
   "cell_type": "code",
   "execution_count": 14,
   "id": "0ebef106-7e8f-421f-8a63-83803b916d58",
   "metadata": {},
   "outputs": [
    {
     "name": "stdout",
     "output_type": "stream",
     "text": [
      "name\n"
     ]
    }
   ],
   "source": [
    "for i in range(10):\n",
    "    pass\n",
    "\n",
    "print(\"name\")\n",
    "    "
   ]
  },
  {
   "cell_type": "code",
   "execution_count": 7,
   "id": "55fe0fa2-3d7e-4071-a2f4-d6e73763d4d3",
   "metadata": {},
   "outputs": [
    {
     "name": "stdout",
     "output_type": "stream",
     "text": [
      "0\n",
      "1\n",
      "2\n",
      "3\n",
      "4\n"
     ]
    }
   ],
   "source": [
    "for i in range(0,10):\n",
    "    if i==5:\n",
    "        break\n",
    "    print(i)"
   ]
  },
  {
   "cell_type": "code",
   "execution_count": 6,
   "id": "b043f8e5-77dc-46ed-990c-e077c2e0446c",
   "metadata": {},
   "outputs": [
    {
     "name": "stdout",
     "output_type": "stream",
     "text": [
      "d\n",
      "a\n",
      "t\n",
      "c\n",
      "h\n",
      "n\n",
      "a\n"
     ]
    }
   ],
   "source": [
    "name = \"datchnamoorthy\"\n",
    "for i in name:\n",
    "    if(i==\"m\"):\n",
    "        break\n",
    "    print(i)"
   ]
  },
  {
   "cell_type": "code",
   "execution_count": 8,
   "id": "9b315e60-56ea-45ff-afc2-737adb3a986e",
   "metadata": {},
   "outputs": [
    {
     "name": "stdout",
     "output_type": "stream",
     "text": [
      "d\n",
      "a\n",
      "t\n",
      "c\n",
      "h\n",
      "n\n",
      "a\n",
      "o\n",
      "o\n",
      "r\n",
      "t\n",
      "h\n",
      "y\n"
     ]
    }
   ],
   "source": [
    "name = \"datchnamoorthy\"\n",
    "for i in name:\n",
    "    if(i==\"m\"):\n",
    "        continue\n",
    "    print(i)"
   ]
  },
  {
   "cell_type": "markdown",
   "id": "59a18bd9-beb5-4060-b36d-6c405c5c224f",
   "metadata": {},
   "source": [
    "## while loop"
   ]
  },
  {
   "cell_type": "code",
   "execution_count": 9,
   "id": "1a7576cb-1d9e-486e-9784-9fe7b5be5fa8",
   "metadata": {},
   "outputs": [
    {
     "name": "stdout",
     "output_type": "stream",
     "text": [
      "0\n",
      "1\n",
      "2\n",
      "3\n",
      "4\n",
      "5\n",
      "6\n",
      "7\n",
      "8\n",
      "9\n"
     ]
    }
   ],
   "source": [
    "for i in range(0,10):\n",
    "    print(i)"
   ]
  },
  {
   "cell_type": "code",
   "execution_count": 1,
   "id": "00f828f4-c72c-43cd-8eea-d8e2f1ae40e0",
   "metadata": {},
   "outputs": [
    {
     "name": "stdout",
     "output_type": "stream",
     "text": [
      "0\n",
      "1\n",
      "2\n",
      "3\n",
      "4\n",
      "5\n",
      "6\n",
      "7\n",
      "8\n",
      "9\n"
     ]
    }
   ],
   "source": [
    "i = 0\n",
    "while i<=9:\n",
    "    print(i)\n",
    "    i+=1"
   ]
  },
  {
   "cell_type": "markdown",
   "id": "418af651-6296-4465-80de-0640f86a624b",
   "metadata": {},
   "source": [
    "## Nested For loop "
   ]
  },
  {
   "cell_type": "code",
   "execution_count": 10,
   "id": "bc1e8831-bbc2-4bc9-a6c7-990f89253b97",
   "metadata": {},
   "outputs": [
    {
     "name": "stdout",
     "output_type": "stream",
     "text": [
      "r ~s\n",
      "r ~a\n",
      "r ~m\n",
      "a ~s\n",
      "a ~a\n",
      "a ~m\n",
      "m ~s\n",
      "m ~a\n",
      "m ~m\n"
     ]
    }
   ],
   "source": [
    "name1 = \"ram\"\n",
    "name2 = \"sam\"\n",
    "\n",
    "for i in name1:\n",
    "    for j in name2:\n",
    "        print(i,\"~\"+j)\n"
   ]
  },
  {
   "cell_type": "code",
   "execution_count": 8,
   "id": "ddf84ef4-8ce8-4920-a60c-ee2a0777dcf7",
   "metadata": {},
   "outputs": [
    {
     "name": "stdout",
     "output_type": "stream",
     "text": [
      "ram sam\n"
     ]
    }
   ],
   "source": [
    "print(\"ram\"+\" sam\")"
   ]
  },
  {
   "cell_type": "code",
   "execution_count": 20,
   "id": "2d243bcf-a2db-4a1c-9cfe-520d3960cf9a",
   "metadata": {},
   "outputs": [
    {
     "name": "stdout",
     "output_type": "stream",
     "text": [
      "\n",
      "\n",
      "1 * 1 = 1\n",
      "1 * 2 = 1\n",
      "1 * 3 = 1\n",
      "1 * 4 = 1\n",
      "1 * 5 = 1\n",
      "1 * 6 = 1\n",
      "1 * 7 = 1\n",
      "1 * 8 = 1\n",
      "1 * 9 = 1\n",
      "1 * 10 = 1\n",
      "\n",
      "\n",
      "2 * 1 = 2\n",
      "2 * 2 = 4\n",
      "2 * 3 = 8\n",
      "2 * 4 = 16\n",
      "2 * 5 = 32\n",
      "2 * 6 = 64\n",
      "2 * 7 = 128\n",
      "2 * 8 = 256\n",
      "2 * 9 = 512\n",
      "2 * 10 = 1024\n",
      "\n",
      "\n",
      "3 * 1 = 3\n",
      "3 * 2 = 9\n",
      "3 * 3 = 27\n",
      "3 * 4 = 81\n",
      "3 * 5 = 243\n",
      "3 * 6 = 729\n",
      "3 * 7 = 2187\n",
      "3 * 8 = 6561\n",
      "3 * 9 = 19683\n",
      "3 * 10 = 59049\n",
      "\n",
      "\n",
      "4 * 1 = 4\n",
      "4 * 2 = 16\n",
      "4 * 3 = 64\n",
      "4 * 4 = 256\n",
      "4 * 5 = 1024\n",
      "4 * 6 = 4096\n",
      "4 * 7 = 16384\n",
      "4 * 8 = 65536\n",
      "4 * 9 = 262144\n",
      "4 * 10 = 1048576\n",
      "\n",
      "\n",
      "5 * 1 = 5\n",
      "5 * 2 = 25\n",
      "5 * 3 = 125\n",
      "5 * 4 = 625\n",
      "5 * 5 = 3125\n",
      "5 * 6 = 15625\n",
      "5 * 7 = 78125\n",
      "5 * 8 = 390625\n",
      "5 * 9 = 1953125\n",
      "5 * 10 = 9765625\n",
      "\n",
      "\n",
      "6 * 1 = 6\n",
      "6 * 2 = 36\n",
      "6 * 3 = 216\n",
      "6 * 4 = 1296\n",
      "6 * 5 = 7776\n",
      "6 * 6 = 46656\n",
      "6 * 7 = 279936\n",
      "6 * 8 = 1679616\n",
      "6 * 9 = 10077696\n",
      "6 * 10 = 60466176\n",
      "\n",
      "\n",
      "7 * 1 = 7\n",
      "7 * 2 = 49\n",
      "7 * 3 = 343\n",
      "7 * 4 = 2401\n",
      "7 * 5 = 16807\n",
      "7 * 6 = 117649\n",
      "7 * 7 = 823543\n",
      "7 * 8 = 5764801\n",
      "7 * 9 = 40353607\n",
      "7 * 10 = 282475249\n",
      "\n",
      "\n",
      "8 * 1 = 8\n",
      "8 * 2 = 64\n",
      "8 * 3 = 512\n",
      "8 * 4 = 4096\n",
      "8 * 5 = 32768\n",
      "8 * 6 = 262144\n",
      "8 * 7 = 2097152\n",
      "8 * 8 = 16777216\n",
      "8 * 9 = 134217728\n",
      "8 * 10 = 1073741824\n",
      "\n",
      "\n",
      "9 * 1 = 9\n",
      "9 * 2 = 81\n",
      "9 * 3 = 729\n",
      "9 * 4 = 6561\n",
      "9 * 5 = 59049\n",
      "9 * 6 = 531441\n",
      "9 * 7 = 4782969\n",
      "9 * 8 = 43046721\n",
      "9 * 9 = 387420489\n",
      "9 * 10 = 3486784401\n",
      "\n",
      "\n",
      "10 * 1 = 10\n",
      "10 * 2 = 100\n",
      "10 * 3 = 1000\n",
      "10 * 4 = 10000\n",
      "10 * 5 = 100000\n",
      "10 * 6 = 1000000\n",
      "10 * 7 = 10000000\n",
      "10 * 8 = 100000000\n",
      "10 * 9 = 1000000000\n",
      "10 * 10 = 10000000000\n"
     ]
    }
   ],
   "source": [
    "for i in range(1,11):\n",
    "    print(\"\\n\")\n",
    "    for j in range(1,11):\n",
    "        print(i,\"*\",j,\"=\",i**j)"
   ]
  },
  {
   "cell_type": "code",
   "execution_count": null,
   "id": "4533e895-9f8f-4305-aba1-620c4f63f7af",
   "metadata": {},
   "outputs": [],
   "source": []
  }
 ],
 "metadata": {
  "kernelspec": {
   "display_name": "Python 3 (ipykernel)",
   "language": "python",
   "name": "python3"
  },
  "language_info": {
   "codemirror_mode": {
    "name": "ipython",
    "version": 3
   },
   "file_extension": ".py",
   "mimetype": "text/x-python",
   "name": "python",
   "nbconvert_exporter": "python",
   "pygments_lexer": "ipython3",
   "version": "3.12.7"
  }
 },
 "nbformat": 4,
 "nbformat_minor": 5
}
